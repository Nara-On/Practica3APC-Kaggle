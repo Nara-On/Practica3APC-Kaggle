{
 "cells": [
  {
   "cell_type": "markdown",
   "id": "7042c140",
   "metadata": {},
   "source": [
    "# Projecte Kaggle: Formula 1 World Championship (1950 - 2022)\n",
    "\n",
    "La base de dades asignada al projecte emmagatzema tota la informació tota la informació sobre la Formula 1: carreres, conductors, constructors, classificacions, circuits, nombre de voltes i parades a boxers.\n",
    "\n",
    "\n",
    "## Llibreries"
   ]
  },
  {
   "cell_type": "code",
   "execution_count": null,
   "id": "3e992fbf",
   "metadata": {},
   "outputs": [],
   "source": []
  },
  {
   "cell_type": "markdown",
   "id": "eb6b8613",
   "metadata": {},
   "source": [
    "## Bases de Dades"
   ]
  },
  {
   "cell_type": "code",
   "execution_count": null,
   "id": "8d2d88ce",
   "metadata": {},
   "outputs": [],
   "source": []
  }
 ],
 "metadata": {
  "kernelspec": {
   "display_name": "Python 3 (ipykernel)",
   "language": "python",
   "name": "python3"
  },
  "language_info": {
   "codemirror_mode": {
    "name": "ipython",
    "version": 3
   },
   "file_extension": ".py",
   "mimetype": "text/x-python",
   "name": "python",
   "nbconvert_exporter": "python",
   "pygments_lexer": "ipython3",
   "version": "3.9.7"
  }
 },
 "nbformat": 4,
 "nbformat_minor": 5
}
